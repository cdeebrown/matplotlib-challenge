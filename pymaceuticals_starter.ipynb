{
 "cells": [
  {
   "cell_type": "markdown",
   "metadata": {},
   "source": [
    "## Observations and Insights "
   ]
  },
  {
   "cell_type": "markdown",
   "metadata": {},
   "source": []
  },
  {
   "cell_type": "code",
   "execution_count": null,
   "metadata": {},
   "outputs": [],
   "source": [
    "# Dependencies and Setup\n",
    "import matplotlib.pyplot as plt\n",
    "import pandas as pd\n",
    "import scipy.stats as st\n",
    "import numpy as np\n",
    "\n",
    "# Study data files\n",
    "mouse_metadata_path = \"data/Mouse_metadata.csv\"\n",
    "study_results_path = \"data/Study_results.csv\"\n",
    "\n",
    "# Read the mouse data and the study results\n",
    "mouse_data = pd.read_csv(mouse_metadata_path)\n",
    "study_results = pd.read_csv(study_results_path)\n",
    "\n",
    "# Combine the data into a single dataset\n",
    "merged1_df = pd.merge(mouse_data, study_results, on=\"Mouse ID\", how=\"outer\")\n",
    "\n",
    "# Display the data table for preview\n",
    "merged1_df"
   ]
  },
  {
   "cell_type": "code",
   "execution_count": null,
   "metadata": {},
   "outputs": [],
   "source": [
    "# Checking the number of mice.\n",
    "mice = len(merged1_df[\"Mouse ID\"].unique())\n",
    "mice"
   ]
  },
  {
   "cell_type": "code",
   "execution_count": null,
   "metadata": {},
   "outputs": [],
   "source": [
    "# Getting the duplicate mice by ID number that shows up for Mouse ID and Timepoint. \n",
    "duplicate = merged1_df[merged1_df.duplicated(['Mouse ID', 'Timepoint'])]\n",
    "print(duplicate)"
   ]
  },
  {
   "cell_type": "code",
   "execution_count": null,
   "metadata": {},
   "outputs": [],
   "source": [
    "# Create a clean DataFrame by dropping the duplicate mouse by its ID.\n",
    "clean_df = merged1_df.drop_duplicates(['Mouse ID', 'Timepoint'], keep=False)\n",
    "\n"
   ]
  },
  {
   "cell_type": "code",
   "execution_count": null,
   "metadata": {},
   "outputs": [],
   "source": [
    "# Checking the number of mice in the clean DataFrame.\n",
    "mice = len(clean_df['Mouse ID'].unique())\n",
    "mice"
   ]
  },
  {
   "cell_type": "code",
   "execution_count": null,
   "metadata": {},
   "outputs": [],
   "source": [
    "\n",
    "drug_group = clean_df.groupby(['Mouse ID', 'Drug Regimen']).count()\n",
    "\n",
    "drug_group = drug_group.reset_index()\n",
    "drug_group"
   ]
  },
  {
   "cell_type": "markdown",
   "metadata": {},
   "source": [
    "## Summary Statistics"
   ]
  },
  {
   "cell_type": "code",
   "execution_count": null,
   "metadata": {},
   "outputs": [],
   "source": [
    "# Generate a summary statistics table of mean, median, variance, standard deviation, and SEM of the tumor volume for each regimen\n",
    "mean = clean_df.groupby(\"Drug Regimen\").mean()[\"Tumor Volume (mm3)\"]\n",
    "median = clean_df.groupby(\"Drug Regimen\").median()[\"Tumor Volume (mm3)\"]\n",
    "var = clean_df.groupby(\"Drug Regimen\").var()[\"Tumor Volume (mm3)\"]\n",
    "std = clean_df.groupby(\"Drug Regimen\").std()[\"Tumor Volume (mm3)\"]\n",
    "sem = clean_df.groupby(\"Drug Regimen\").sem()[\"Tumor Volume (mm3)\"]\n",
    "\n",
    "# This method is the most straighforward, creating multiple series and putting them all together at the end.\n",
    "summary_table = pd.DataFrame({\"Mean Tumor Volume\": mean,\n",
    "                             \"Median Tumor Volume\": median,\n",
    "                             \"Tumor Volume Variance\": var,\n",
    "                             \"Tumor Volume Std Dev\": std,\n",
    "                             \"Tumor Volume SEM\": sem})\n",
    "summary_table"
   ]
  },
  {
   "cell_type": "code",
   "execution_count": null,
   "metadata": {},
   "outputs": [],
   "source": [
    "# Generate a summary statistics table of mean, median, variance, standard deviation, and SEM of the tumor volume for each regimen\n",
    "\n",
    "# This method produces everything in a single groupby function\n",
    "clean_df.groupby(\"Drug Regimen\")[['Tumor Volume (mm3)']].agg(['mean','median','var','std', 'sem'])\n"
   ]
  },
  {
   "cell_type": "code",
   "execution_count": null,
   "metadata": {},
   "outputs": [],
   "source": [
    "#DataFrame showing number of MIce per Treatment\n",
    "m_d = drug_group[[\"Mouse ID\", \"Drug Regimen\"]]\n",
    "mouse_per = m_d.groupby(['Drug Regimen']).count()\n",
    "mouse_per.reset_index()"
   ]
  },
  {
   "cell_type": "code",
   "execution_count": null,
   "metadata": {},
   "outputs": [],
   "source": [
    "per_drug = mouse_per.rename(columns={'Drug Regimen':\"Drug\",'Mouse ID':\"# of Mice\"}).reset_index()\n",
    "per_drug.columns=['Drug', '# of Mice']\n",
    "per_drug"
   ]
  },
  {
   "cell_type": "code",
   "execution_count": null,
   "metadata": {},
   "outputs": [],
   "source": []
  },
  {
   "cell_type": "markdown",
   "metadata": {},
   "source": [
    "## Bar and Pie Charts"
   ]
  },
  {
   "cell_type": "code",
   "execution_count": null,
   "metadata": {},
   "outputs": [],
   "source": [
    "# Generate a bar plot showing the total number of mice for each treatment throughout the course of the study using pandas. \n",
    "\n",
    "per_drug.plot(kind='bar', title=\"Number of Mice Per Drug\", figsize=(15,10)) "
   ]
  },
  {
   "cell_type": "code",
   "execution_count": null,
   "metadata": {},
   "outputs": [],
   "source": [
    "# Generate a bar plot showing the total number of mice for each treatment throughout the course of the study using pyplot.\n",
    "x_axis = np.arange(len(per_drug))\n",
    "tick_locations = [value for value in x_axis ]\n",
    "    \n",
    "plt.title(\"Number of Mice Per Treatment\")\n",
    "plt.xlabel(\"Treatment\")\n",
    "plt.ylabel(\"Number of Mice\")\n",
    "\n",
    "plt.bar(x_axis, per_drug[\"# of Mice\"], facecolor='b', alpha=0.75, align='center')\n",
    "plt.xticks(tick_locations, per_drug[\"Drug Regimen\"], rotation=\"vertical\")\n",
    "plt.show()\n"
   ]
  },
  {
   "cell_type": "code",
   "execution_count": null,
   "metadata": {},
   "outputs": [],
   "source": [
    "# Generate a pie plot showing the distribution of female versus male mice using pandas\n",
    "s_d = clean_df[['Mouse ID','Sex']]\n",
    "s_per = s_d.groupby(['Sex']).count()\n",
    "s_per.reset_index()\n",
    "s_per.plot.pie(y=\"Mouse ID\", figsize=(5,5))"
   ]
  },
  {
   "cell_type": "code",
   "execution_count": null,
   "metadata": {},
   "outputs": [],
   "source": [
    "# Generate a pie plot showing the distribution of female versus male mice using pyplot\n",
    "labels = [\"Male\", \"Female\"]\n",
    "amount = [958, 925]\n",
    "colors = [\"blue\", \"pink\"]\n",
    "plt.pie(amount, labels=labels, colors=colors, autopct=\"%1.1f%%\", shadow=True)"
   ]
  },
  {
   "cell_type": "markdown",
   "metadata": {},
   "source": [
    "## Quartiles, Outliers and Boxplots"
   ]
  },
  {
   "cell_type": "code",
   "execution_count": null,
   "metadata": {
    "scrolled": false
   },
   "outputs": [],
   "source": [
    "# Calculate the final tumor volume of each mouse across four of the treatment regimens:  \n",
    "# Capomulin, Ramicane, Infubinol, and Ceftamin\n",
    "df = clean_df.groupby(['Mouse ID']).max()\n",
    "df = df.reset_index()\n",
    "merged_data = df[[\"Mouse ID\", \"Timepoint\"]].merge(clean_df,on=['Mouse ID','Timepoint'],how=\"left\")\n",
    "capomulin = merged_data.loc[merged_data['Drug Regimen'] == 'Capomulin'].groupby('Mouse ID')['Tumor Volume (mm3)'].max()\n",
    "ramicane = merged_data.loc[merged_data['Drug Regimen'] == 'Ramicane'].groupby('Mouse ID')['Tumor Volume (mm3)'].max()\n",
    "infubinol = merged_data.loc[merged_data['Drug Regimen'] == 'Infubinol'].groupby('Mouse ID')['Tumor Volume (mm3)'].max()\n",
    "ceftamin = merged_data.loc[merged_data['Drug Regimen'] == 'Ceftamin'].groupby('Mouse ID')['Tumor Volume (mm3)'].max()\n",
    "\n",
    "focused_df = pd.DataFrame({\"Capomulin\": capomulin,\n",
    "                          \"Ramicane\": ramicane,\n",
    "                           \"Infubinol\": infubinol,\n",
    "                          \"Ceftamin\": ceftamin}) \n",
    "focused_df = focused_df.reset_index()\n",
    "focused_df"
   ]
  },
  {
   "cell_type": "code",
   "execution_count": null,
   "metadata": {},
   "outputs": [],
   "source": [
    "#Random locate check to verify Mouse ID and final Timepoint & Tumor Volume\n",
    "clean_df.loc[clean_df['Mouse ID'] == 'a203']"
   ]
  },
  {
   "cell_type": "code",
   "execution_count": null,
   "metadata": {},
   "outputs": [],
   "source": [
    "# Put treatments into a list for for loop (and later for plot labels)\n",
    "treatments = [\"Capomulin\", \"Ramicane\", \"Infubinol\", \"Ceftamin\"]\n",
    "\n",
    "# Create empty list to fill with tumor vol data (for plotting)\n",
    "tumor_vol = []\n",
    "#tumor_vol\n",
    "\n",
    "\n",
    "# Calculate the IQR and quantitatively determine if there are any potential outliers. \n",
    "# Quantitatively determine capomulin outliers\n",
    "capomulin = focused_df['Capomulin']\n",
    "quartiles = capomulin.quantile([.25,.5,.75])\n",
    "lowerq = quartiles[0.25]\n",
    "upperq = quartiles[0.75]\n",
    "iqr = upperq-lowerq\n",
    "\n",
    "print(f\"The lower quartile of capomulin is: {lowerq}\")\n",
    "print(f\"The upper quartile of capomulin is: {upperq}\")\n",
    "print(f\"The interquartile range of capomulin is: {iqr}\")\n",
    "print(f\"The the median of capomulin is: {quartiles[0.5]} \")\n",
    "\n",
    "lower_bound = lowerq - (1.5*iqr)\n",
    "upper_bound = upperq + (1.5*iqr)\n",
    "print(f\"Values below {lower_bound} could be outliers.\")\n",
    "print(f\"Values above {upper_bound} could be outliers.\")\n",
    "\n",
    "    "
   ]
  },
  {
   "cell_type": "code",
   "execution_count": null,
   "metadata": {},
   "outputs": [],
   "source": [
    "# Locate the rows which contain mice on each drug and get the tumor volumes\n",
    "\n",
    "only_cap = focused_df.loc[focused_df[\"Capomulin\"] > 1]\n",
    "only_ram = focused_df.loc[focused_df[\"Ramicane\"] > 1]\n",
    "only_infu = focused_df.loc[focused_df[\"Infubinol\"] > 1]\n",
    "only_ceft = focused_df.loc[focused_df[\"Ceftamin\"] > 1]\n",
    "\n",
    "#max_df = pd.DataFrame({\"Capomulin\": only_cap, \"Ramicane\": only_ram, \"Infubinol\": only_infu, \"Ceftamin\": only_ceft})\n",
    "#max_df\n",
    "# add subset \n",
    "#subset =     \n",
    "    \n",
    "# Determine outliers using upper and lower bounds"
   ]
  },
  {
   "cell_type": "code",
   "execution_count": null,
   "metadata": {},
   "outputs": [],
   "source": [
    "# Generate a box plot of the final tumor volume of each mouse across four regimens of interest\n",
    "#volumes = focused_df.loc[focused_df[\"Capomulin\"]]\n",
    "\n",
    "#fig1, ax1 = plt.subplots()\n",
    "#ax1.set_title('Mice')\n",
    "#ax1.set_ylabel('Max Tumor Volume')\n",
    "#ax1.boxplot(volumes)\n",
    "#plt.show()"
   ]
  },
  {
   "cell_type": "markdown",
   "metadata": {},
   "source": [
    "## Line and Scatter Plots"
   ]
  },
  {
   "cell_type": "code",
   "execution_count": null,
   "metadata": {},
   "outputs": [],
   "source": [
    "# Generate a line plot of time point versus tumor volume for a mouse treated with Capomulin\n",
    "plt.xlabel = (\"Max Tumor Volume\")\n",
    "plt.ylabel = (\"Timepoint\")\n",
    "\n",
    "mouse.plot(label=\"Capomulin\")\n",
    "(clean_df.loc['y973','Timepoint'], \n",
    "                        color=\"green\",label=clean_df.loc['y973',\"Tumor Volume (mm3)\"])\n",
    "\n",
    "# Show the chart\n",
    "plt.show()"
   ]
  },
  {
   "cell_type": "code",
   "execution_count": null,
   "metadata": {},
   "outputs": [],
   "source": [
    "# Generate a scatter plot of mouse weight versus average tumor volume for the Capomulin regimen\n",
    "x_values = clean_df.loc[clean_df['Drug Regimen'] == \"Capomulin\"]\n",
    "y_values = clean_df['Tumor Volume (mm3)']\n",
    "plt.scatter(x_values,y_values)\n",
    "plt.xlabel('Mouse Weight')\n",
    "plt.ylabel('Tumor Volume')\n",
    "plt.show()"
   ]
  },
  {
   "cell_type": "markdown",
   "metadata": {},
   "source": [
    "## Correlation and Regression"
   ]
  },
  {
   "cell_type": "code",
   "execution_count": null,
   "metadata": {},
   "outputs": [],
   "source": [
    "# Calculate the correlation coefficient and linear regression model \n",
    "# for mouse weight and average tumor volume for the Capomulin regimen\n"
   ]
  },
  {
   "cell_type": "code",
   "execution_count": null,
   "metadata": {},
   "outputs": [],
   "source": []
  }
 ],
 "metadata": {
  "anaconda-cloud": {},
  "kernelspec": {
   "display_name": "Python 3",
   "language": "python",
   "name": "python3"
  },
  "language_info": {
   "codemirror_mode": {
    "name": "ipython",
    "version": 3
   },
   "file_extension": ".py",
   "mimetype": "text/x-python",
   "name": "python",
   "nbconvert_exporter": "python",
   "pygments_lexer": "ipython3",
   "version": "3.7.6"
  }
 },
 "nbformat": 4,
 "nbformat_minor": 2
}
